{
 "cells": [
  {
   "cell_type": "code",
   "execution_count": null,
   "metadata": {},
   "outputs": [],
   "source": [
    "import os; import sys;\n",
    "from pprint import pprint\n",
    "\n",
    "import numpy as np\n",
    "import pandas as pd\n",
    "\n",
    "import matplotlib.pyplot as plt\n",
    "\n",
    "from utils.utils_fancy_example.utils_fancy_example import *\n",
    "from utils.utils_fancy_example.utils_computation_fancy_example import *\n",
    "from utils.utils_fancy_example.utils_plot_fancy_example import *\n",
    "from utils.utils_fancy_example.utils_ml_fancy_example import *\n",
    "\n",
    "from utils.sklearn_tests_plot import *"
   ]
  },
  {
   "cell_type": "code",
   "execution_count": null,
   "metadata": {},
   "outputs": [],
   "source": [
    "np.random.seed(0)\n",
    "\n",
    "T = 8\n",
    "N_MIN, N_MAX = 8, 200\n",
    "TARGET = 't'"
   ]
  },
  {
   "cell_type": "code",
   "execution_count": null,
   "metadata": {},
   "outputs": [],
   "source": [
    "DIR_IMAGES = 'images'\n",
    "DIR_NOTEBOOK_IMG = 'fancy_example'\n",
    "dest_dir_images = os.path.join(DIR_IMAGES, DIR_NOTEBOOK_IMG)\n",
    "\n",
    "setup_dir_for_images(dest_dir_images)\n",
    "\n",
    "full_path_trial = os.path.join(dest_dir_images, f\"trial_{N_MIN}_to_{N_MAX}\")\n",
    "setup_dir_for_images(dest_dir_images)"
   ]
  },
  {
   "cell_type": "markdown",
   "metadata": {},
   "source": [
    "## Rough Explanation"
   ]
  },
  {
   "cell_type": "code",
   "execution_count": null,
   "metadata": {},
   "outputs": [],
   "source": [
    "raw_examples()"
   ]
  },
  {
   "cell_type": "code",
   "execution_count": null,
   "metadata": {},
   "outputs": [],
   "source": [
    "raw_examples_v2()"
   ]
  },
  {
   "cell_type": "markdown",
   "metadata": {},
   "source": [
    "## Structural Expalnation"
   ]
  },
  {
   "cell_type": "code",
   "execution_count": null,
   "metadata": {},
   "outputs": [],
   "source": [
    "solve_problem(t=T, verbose=2, whole_solutions=False)"
   ]
  },
  {
   "cell_type": "markdown",
   "metadata": {},
   "source": [
    "## Structural Simulation"
   ]
  },
  {
   "cell_type": "code",
   "execution_count": null,
   "metadata": {},
   "outputs": [],
   "source": [
    "t_attempts = np.arange(N_MIN, N_MAX, 2)\n",
    "results = []\n",
    "\n",
    "for t in t_attempts:\n",
    "    sol = solve_problem(t=t, verbose=0, whole_solutions=True)\n",
    "    # print(t, sol, len(sol))\n",
    "    results.append(sol)\n",
    "    pass"
   ]
  },
  {
   "cell_type": "code",
   "execution_count": null,
   "metadata": {},
   "outputs": [],
   "source": [
    "instances_x_result = np.array(list(map(lambda xi: len(xi), results)))\n",
    "x, y = np.array(list(t_attempts)), instances_x_result"
   ]
  },
  {
   "cell_type": "markdown",
   "metadata": {},
   "source": [
    "### Plots Strucutural Simulation"
   ]
  },
  {
   "cell_type": "code",
   "execution_count": null,
   "metadata": {},
   "outputs": [],
   "source": [
    "plot_stem_line_scatter(x, y, gridshape=[2, 2], figsize=(10, 10))"
   ]
  },
  {
   "cell_type": "markdown",
   "metadata": {},
   "source": [
    "## Machine Learning Section"
   ]
  },
  {
   "cell_type": "code",
   "execution_count": null,
   "metadata": {},
   "outputs": [],
   "source": [
    "df = create_data_frame(raw_data=results)"
   ]
  },
  {
   "cell_type": "code",
   "execution_count": null,
   "metadata": {},
   "outputs": [],
   "source": [
    "# df.head(df.shape[0])\n",
    "df.head(5)"
   ]
  },
  {
   "cell_type": "code",
   "execution_count": null,
   "metadata": {},
   "outputs": [],
   "source": [
    "n_samples = df.shape[0]\n",
    "x_vals = df.head(n_samples)[['x']].values\n",
    "y_vals = df.head(n_samples)[['y']].values"
   ]
  },
  {
   "cell_type": "code",
   "execution_count": null,
   "metadata": {},
   "outputs": [],
   "source": [
    "diffs_x_y = x_vals - y_vals\n",
    "x, y = list(range(len(diffs_x_y))), diffs_x_y"
   ]
  },
  {
   "cell_type": "code",
   "execution_count": null,
   "metadata": {},
   "outputs": [],
   "source": [
    "plot_stem_line_scatter(x, y, gridshape=[2, 2], figsize=(10, 10))"
   ]
  },
  {
   "cell_type": "code",
   "execution_count": null,
   "metadata": {},
   "outputs": [],
   "source": [
    "n_samples = df.shape[0]\n",
    "a_vals = df.head(n_samples)[['a']].values\n",
    "b_vals = df.head(n_samples)[['b']].values"
   ]
  },
  {
   "cell_type": "code",
   "execution_count": null,
   "metadata": {},
   "outputs": [],
   "source": [
    "diffs_a_b = a_vals - b_vals\n",
    "x, y = list(range(len(diffs_a_b))), diffs_a_b"
   ]
  },
  {
   "cell_type": "code",
   "execution_count": null,
   "metadata": {},
   "outputs": [],
   "source": [
    "plot_stem_line_scatter(x, y, gridshape=[2, 2], figsize=(10, 10))"
   ]
  },
  {
   "cell_type": "code",
   "execution_count": null,
   "metadata": {},
   "outputs": [],
   "source": [
    "X = df.loc[:, df.columns != TARGET].values\n",
    "y = df[[TARGET]].values"
   ]
  },
  {
   "cell_type": "code",
   "execution_count": null,
   "metadata": {},
   "outputs": [],
   "source": [
    "print(y[:3])\n",
    "print(X[:3])"
   ]
  },
  {
   "cell_type": "code",
   "execution_count": null,
   "metadata": {},
   "outputs": [],
   "source": [
    "show_Ordinary_Least_Squares_vs_Ridge_Regression_Variance(X[:, 0], y)"
   ]
  },
  {
   "cell_type": "code",
   "execution_count": null,
   "metadata": {},
   "outputs": [],
   "source": []
  }
 ],
 "metadata": {
  "kernelspec": {
   "display_name": "Python 3",
   "language": "python",
   "name": "python3"
  },
  "language_info": {
   "codemirror_mode": {
    "name": "ipython",
    "version": 3
   },
   "file_extension": ".py",
   "mimetype": "text/x-python",
   "name": "python",
   "nbconvert_exporter": "python",
   "pygments_lexer": "ipython3",
   "version": "3.7.7"
  }
 },
 "nbformat": 4,
 "nbformat_minor": 4
}
