{
 "cells": [
  {
   "cell_type": "code",
   "execution_count": null,
   "metadata": {},
   "outputs": [],
   "source": [
    "from pprint import pprint\n",
    "\n",
    "from pandas.plotting import scatter_matrix\n",
    "from pandas.plotting import andrews_curves\n",
    "from pandas.plotting import parallel_coordinates\n",
    "from pandas.plotting import lag_plot\n",
    "\n",
    "import os; import sys;\n",
    "\n",
    "import numpy as np\n",
    "import pandas as pd\n",
    "\n",
    "import matplotlib.pyplot as plt\n",
    "\n",
    "from utils.utils_fancy_example.utils_fancy_example import *\n",
    "from utils.utils_fancy_example.utils_computation_fancy_example import *\n",
    "from utils.utils_fancy_example.utils_plot_fancy_example import *\n",
    "from utils.utils_fancy_example.utils_ml_fancy_example import *\n",
    "from utils.utils_fancy_example.utils_fancy_example_df_plots import *\n",
    "from utils.sklearn_tests_plot import *\n"
   ]
  },
  {
   "cell_type": "code",
   "execution_count": null,
   "metadata": {},
   "outputs": [],
   "source": [
    "np.random.seed(0)\n",
    "\n",
    "T = 8\n",
    "N_MIN, N_MAX = 8, 200\n",
    "TARGET = 't'"
   ]
  },
  {
   "cell_type": "code",
   "execution_count": null,
   "metadata": {},
   "outputs": [],
   "source": [
    "DIR_IMAGES = 'images'\n",
    "DIR_NOTEBOOK_IMG = 'fancy_example'\n",
    "dest_dir_images = os.path.join(DIR_IMAGES, DIR_NOTEBOOK_IMG)\n",
    "\n",
    "setup_dir_for_images(dest_dir_images)\n",
    "\n",
    "full_path_trial = os.path.join(dest_dir_images, f\"trial_{N_MIN}_to_{N_MAX}\")\n",
    "setup_dir_for_images(dest_dir_images)"
   ]
  },
  {
   "cell_type": "markdown",
   "metadata": {},
   "source": [
    "## Rough Explanation"
   ]
  },
  {
   "cell_type": "code",
   "execution_count": null,
   "metadata": {},
   "outputs": [],
   "source": [
    "raw_examples()"
   ]
  },
  {
   "cell_type": "code",
   "execution_count": null,
   "metadata": {},
   "outputs": [],
   "source": [
    "raw_examples_v2()"
   ]
  },
  {
   "cell_type": "markdown",
   "metadata": {},
   "source": [
    "## Structural Expalnation"
   ]
  },
  {
   "cell_type": "code",
   "execution_count": null,
   "metadata": {},
   "outputs": [],
   "source": [
    "solve_problem(t=T, verbose=2, whole_solutions=False)"
   ]
  },
  {
   "cell_type": "markdown",
   "metadata": {},
   "source": [
    "## Structural Simulation"
   ]
  },
  {
   "cell_type": "code",
   "execution_count": null,
   "metadata": {},
   "outputs": [],
   "source": [
    "t_attempts, results = solve_problem_v2(t_min=N_MIN, t_max=N_MAX, verbose=0, whole_solutions=False)"
   ]
  },
  {
   "cell_type": "code",
   "execution_count": null,
   "metadata": {},
   "outputs": [],
   "source": [
    "instances_x_result = np.array(list(map(lambda xi: len(xi), results)))\n",
    "x, y = np.array(list(t_attempts)), instances_x_result\n",
    "# x, y = np.array(t_attempts), instances_x_result"
   ]
  },
  {
   "cell_type": "markdown",
   "metadata": {},
   "source": [
    "### Plots Structural Simulation"
   ]
  },
  {
   "cell_type": "code",
   "execution_count": null,
   "metadata": {},
   "outputs": [],
   "source": [
    "plot_stem_line_scatter(x[:20], y[:20], gridshape=[2, 2], figsize=(10, 10))"
   ]
  },
  {
   "cell_type": "markdown",
   "metadata": {},
   "source": [
    "## Data Frame Analysis Section"
   ]
  },
  {
   "cell_type": "code",
   "execution_count": null,
   "metadata": {},
   "outputs": [],
   "source": [
    "df = create_data_frame(raw_data=results)"
   ]
  },
  {
   "cell_type": "code",
   "execution_count": null,
   "metadata": {},
   "outputs": [],
   "source": [
    "# df.head(df.shape[0])\n",
    "df.head(5)"
   ]
  },
  {
   "cell_type": "markdown",
   "metadata": {},
   "source": [
    "### __Show difference between 'x' and 'y' features__"
   ]
  },
  {
   "cell_type": "code",
   "execution_count": null,
   "metadata": {},
   "outputs": [],
   "source": [
    "n_samples = df.shape[0]\n",
    "x_vals = df.head(n_samples)[['x']].values\n",
    "y_vals = df.head(n_samples)[['y']].values"
   ]
  },
  {
   "cell_type": "code",
   "execution_count": null,
   "metadata": {},
   "outputs": [],
   "source": [
    "diffs_x_y = x_vals - y_vals\n",
    "x, y = list(range(len(diffs_x_y))), diffs_x_y"
   ]
  },
  {
   "cell_type": "code",
   "execution_count": null,
   "metadata": {},
   "outputs": [],
   "source": [
    "plot_stem_line_scatter(x[:20], y[:20], gridshape=[2, 2], figsize=(10, 10))"
   ]
  },
  {
   "cell_type": "markdown",
   "metadata": {},
   "source": [
    "### __Show difference between 'a' and 'b' features__"
   ]
  },
  {
   "cell_type": "code",
   "execution_count": null,
   "metadata": {},
   "outputs": [],
   "source": [
    "n_samples = df.shape[0]\n",
    "a_vals = df.head(n_samples)[['a']].values\n",
    "b_vals = df.head(n_samples)[['b']].values"
   ]
  },
  {
   "cell_type": "code",
   "execution_count": null,
   "metadata": {},
   "outputs": [],
   "source": [
    "diffs_a_b = a_vals - b_vals\n",
    "x, y = list(range(len(diffs_a_b))), diffs_a_b"
   ]
  },
  {
   "cell_type": "code",
   "execution_count": null,
   "metadata": {},
   "outputs": [],
   "source": [
    "plot_stem_line_scatter(x[:20], y[:20], gridshape=[2, 2], figsize=(10, 10))"
   ]
  },
  {
   "cell_type": "markdown",
   "metadata": {},
   "source": [
    "### Basis df plots"
   ]
  },
  {
   "cell_type": "code",
   "execution_count": null,
   "metadata": {},
   "outputs": [],
   "source": [
    "_ = scatter_matrix(df, alpha=0.2, figsize=(6, 6), diagonal='kde')"
   ]
  },
  {
   "cell_type": "code",
   "execution_count": null,
   "metadata": {},
   "outputs": [],
   "source": [
    "show_basis_df_plots(df, target_name=TARGET, gridshape=(1, 3), figsize=(20, 5))"
   ]
  },
  {
   "cell_type": "code",
   "execution_count": null,
   "metadata": {},
   "outputs": [],
   "source": [
    "show_df_bars(df,\n",
    "    target_name=TARGET,\n",
    "    columns=[TARGET, 'x', 'y'],\n",
    "    # n_elements=df.shape[0],\n",
    "    n_elements=20,\n",
    "    gridshape=(1, 2),\n",
    "    figsize=(20, 5)\n",
    ")"
   ]
  },
  {
   "cell_type": "code",
   "execution_count": null,
   "metadata": {},
   "outputs": [],
   "source": [
    "show_df_bars_scaled(df,\n",
    "    target_name=TARGET,\n",
    "    columns=[TARGET, 'x'],\n",
    "    # n_elements=df.shape[0],\n",
    "    n_elements=500,\n",
    "    gridshape=(1, 2),\n",
    "    figsize=(20, 5),\n",
    "    axis=0)"
   ]
  },
  {
   "cell_type": "code",
   "execution_count": null,
   "metadata": {},
   "outputs": [],
   "source": []
  },
  {
   "cell_type": "markdown",
   "metadata": {},
   "source": [
    "## Machine Learning Section"
   ]
  },
  {
   "cell_type": "code",
   "execution_count": null,
   "metadata": {},
   "outputs": [],
   "source": [
    "X = df.loc[:, df.columns != TARGET].values\n",
    "y = df[[TARGET]].values"
   ]
  },
  {
   "cell_type": "code",
   "execution_count": null,
   "metadata": {},
   "outputs": [],
   "source": [
    "# show_Ordinary_Least_Squares_vs_Ridge_Regression_Variance(X[:, 0], y)"
   ]
  },
  {
   "cell_type": "markdown",
   "metadata": {},
   "source": [
    "## References\n",
    "\n",
    "### Pandas - References\n",
    "- Visualization:\n",
    "    - (visualization) https://pandas.pydata.org/pandas-docs/stable/user_guide/visualization.html\n",
    "\n",
    "### Blogs:\n",
    "- (Chris Albon) https://chrisalbon.com/#machine_learning\n",
    "- (Shane Lynn) https://www.shanelynn.ie/"
   ]
  },
  {
   "cell_type": "code",
   "execution_count": null,
   "metadata": {},
   "outputs": [],
   "source": []
  }
 ],
 "metadata": {
  "kernelspec": {
   "display_name": "Python 3",
   "language": "python",
   "name": "python3"
  },
  "language_info": {
   "codemirror_mode": {
    "name": "ipython",
    "version": 3
   },
   "file_extension": ".py",
   "mimetype": "text/x-python",
   "name": "python",
   "nbconvert_exporter": "python",
   "pygments_lexer": "ipython3",
   "version": "3.7.7"
  }
 },
 "nbformat": 4,
 "nbformat_minor": 4
}
