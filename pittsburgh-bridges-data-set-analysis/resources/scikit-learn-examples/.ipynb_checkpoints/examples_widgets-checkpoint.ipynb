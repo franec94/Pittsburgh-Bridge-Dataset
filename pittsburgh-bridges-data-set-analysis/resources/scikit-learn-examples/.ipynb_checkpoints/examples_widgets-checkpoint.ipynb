{
 "cells": [
  {
   "cell_type": "code",
   "execution_count": 1,
   "metadata": {},
   "outputs": [
    {
     "name": "stdout",
     "output_type": "stream",
     "text": [
      "Automatically created module for IPython interactive environment\n"
     ]
    },
    {
     "ename": "ModuleNotFoundError",
     "evalue": "No module named 'imgkit'",
     "output_type": "error",
     "traceback": [
      "\u001b[1;31m---------------------------------------------------------------------------\u001b[0m",
      "\u001b[1;31mModuleNotFoundError\u001b[0m                       Traceback (most recent call last)",
      "\u001b[1;32m<ipython-input-1-68ce17f7f57b>\u001b[0m in \u001b[0;36m<module>\u001b[1;34m\u001b[0m\n\u001b[0;32m     18\u001b[0m \u001b[1;32mimport\u001b[0m \u001b[0mcopy\u001b[0m\u001b[1;33m;\u001b[0m \u001b[1;32mimport\u001b[0m \u001b[0mos\u001b[0m\u001b[1;33m\u001b[0m\u001b[1;33m\u001b[0m\u001b[0m\n\u001b[0;32m     19\u001b[0m \u001b[1;32mimport\u001b[0m \u001b[0msys\u001b[0m\u001b[1;33m;\u001b[0m \u001b[1;32mimport\u001b[0m \u001b[0mtime\u001b[0m\u001b[1;33m\u001b[0m\u001b[1;33m\u001b[0m\u001b[0m\n\u001b[1;32m---> 20\u001b[1;33m \u001b[1;32mimport\u001b[0m \u001b[0mitertools\u001b[0m\u001b[1;33m;\u001b[0m \u001b[1;32mimport\u001b[0m \u001b[0mimgkit\u001b[0m\u001b[1;33m\u001b[0m\u001b[1;33m\u001b[0m\u001b[0m\n\u001b[0m\u001b[0;32m     21\u001b[0m \u001b[1;33m\u001b[0m\u001b[0m\n\u001b[0;32m     22\u001b[0m \u001b[1;31m# Imports through 'as' syntax\u001b[0m\u001b[1;33m\u001b[0m\u001b[1;33m\u001b[0m\u001b[1;33m\u001b[0m\u001b[0m\n",
      "\u001b[1;31mModuleNotFoundError\u001b[0m: No module named 'imgkit'"
     ]
    }
   ],
   "source": [
    "# =========================================================================== #\n",
    "# STANDARD IMPORTS\n",
    "# =========================================================================== #\n",
    "print(__doc__)\n",
    "\n",
    "# Critical Imports\n",
    "# --------------------------------------------------------------------------- #\n",
    "import warnings; warnings.filterwarnings(\"ignore\")\n",
    "\n",
    "# Imports through 'from' syntax\n",
    "# --------------------------------------------------------------------------- #\n",
    "from pprint import pprint\n",
    "from IPython.display import display\n",
    "from itertools import islice\n",
    "\n",
    "# Standard Imports\n",
    "# --------------------------------------------------------------------------- #\n",
    "import copy; import os\n",
    "import sys; import time\n",
    "import itertools;\n",
    "\n",
    "# Imports through 'as' syntax\n",
    "# --------------------------------------------------------------------------- #\n",
    "import numpy as np; import pandas as pd\n",
    "\n",
    "# Imports for handling graphics\n",
    "# --------------------------------------------------------------------------- #\n",
    "%matplotlib inline\n",
    "# Matplotlib pyplot provides plotting API\n",
    "import matplotlib as mpl\n",
    "from matplotlib import pyplot as plt\n",
    "import chart_studio.plotly.plotly as py\n",
    "import seaborn as sns;  sns.set(style=\"ticks\", color_codes=True) # sns.set()\n",
    "\n",
    "from sklearn.metrics import classification_report"
   ]
  },
  {
   "cell_type": "code",
   "execution_count": null,
   "metadata": {},
   "outputs": [],
   "source": [
    "import ipywidgets as widgets\n",
    "from IPython import display\n",
    "import pandas as pd\n",
    "import numpy as np\n",
    "\n",
    "# sample data\n",
    "df1 = pd.DataFrame(np.random.randn(8, 3))\n",
    "df2 = pd.DataFrame(np.random.randn(8, 3))\n",
    "\n",
    "# create output widgets\n",
    "widget1 = widgets.Output()\n",
    "widget2 = widgets.Output()\n",
    "\n",
    "# render in output widgets\n",
    "with widget1:\n",
    "    display.display(df1)\n",
    "with widget2:\n",
    "    display.display(df2)\n",
    "\n",
    "# create HBox\n",
    "hbox = widgets.HBox([widget1, widget2])\n",
    "\n",
    "# render hbox\n",
    "hbox"
   ]
  },
  {
   "cell_type": "code",
   "execution_count": null,
   "metadata": {},
   "outputs": [],
   "source": [
    "y_true = [0, 1, 2, 2, 2]\n",
    "y_pred = [0, 0, 2, 2, 1]\n",
    "target_names = ['class 0', 'class 1', 'class 2']\n",
    "print(classification_report(y_true, y_pred, target_names=target_names))"
   ]
  },
  {
   "cell_type": "code",
   "execution_count": null,
   "metadata": {},
   "outputs": [],
   "source": [
    "res_report = classification_report(y_true, y_pred, target_names=target_names, output_dict=True)\n",
    "indeces_df = list(res_report.keys())\n",
    "columns_df = list(res_report[list(res_report.keys())[0]].keys())\n",
    "data = []\n",
    "for k, v in res_report.items():\n",
    "    record = []\n",
    "    try:\n",
    "        for _, v2 in v.items():\n",
    "            record.append(v2)\n",
    "        data.append(record)\n",
    "    except:\n",
    "        record = [None] * 2 + [v] + [len(y_true)]\n",
    "        data.append(record)\n",
    "        pass\n",
    "df = pd.DataFrame(data=data, columns=columns_df, index=indeces_df[:])\n",
    "df"
   ]
  },
  {
   "cell_type": "code",
   "execution_count": null,
   "metadata": {},
   "outputs": [],
   "source": [
    "text_file = open(\"filename.html\", \"a\")\n",
    "# write the CSS\n",
    "text_file.write(css)\n",
    "# write the HTML-ized Pandas DataFrame\n",
    "text_file.write(df.to_html())\n",
    "text_file.close()\n",
    "\n",
    "imgkitoptions = {\"format\": \"png\"}\n",
    "imgkit.from_file(\"filename.html\", outputfile, options=imgkitoptions)"
   ]
  },
  {
   "cell_type": "code",
   "execution_count": null,
   "metadata": {},
   "outputs": [],
   "source": [
    "y_pred = [1, 1, 0]\n",
    "y_true = [1, 1, 1]\n",
    "print(classification_report(y_true, y_pred, labels=[1, 2, 3]))"
   ]
  },
  {
   "cell_type": "code",
   "execution_count": null,
   "metadata": {},
   "outputs": [],
   "source": []
  }
 ],
 "metadata": {
  "kernelspec": {
   "display_name": "Python 3",
   "language": "python",
   "name": "python3"
  },
  "language_info": {
   "codemirror_mode": {
    "name": "ipython",
    "version": 3
   },
   "file_extension": ".py",
   "mimetype": "text/x-python",
   "name": "python",
   "nbconvert_exporter": "python",
   "pygments_lexer": "ipython3",
   "version": "3.7.7"
  }
 },
 "nbformat": 4,
 "nbformat_minor": 4
}
