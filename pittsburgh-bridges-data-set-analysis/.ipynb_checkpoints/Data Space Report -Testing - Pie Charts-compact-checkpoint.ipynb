{
 "cells": [
  {
   "cell_type": "markdown",
   "metadata": {},
   "source": [
    "# Data Space Report\n",
    "\n",
    "\n",
    "<img src=\"images/polito_logo.png\" alt=\"Polito Logo\" style=\"width: 200px;\"/>\n",
    "\n",
    "\n",
    "## Pittsburgh Bridges Data Set\n",
    "\n",
    "<img src=\"images/andy_warhol_bridge.jpg\" alt=\"Andy Warhol Bridge\" style=\"width: 200px;\"/>\n",
    "\n",
    "    Andy Warhol Bridge - Pittsburgh.\n",
    "\n",
    "Report created by Student Francesco Maria Chiarlo s253666, for A.A 2019/2020.\n",
    "\n",
    "**Abstract**:The aim of this report is to evaluate the effectiveness of distinct, different statistical learning approaches, in particular focusing on their characteristics as well as on their advantages and backwards when applied onto a relatively small dataset as the one employed within this report, that is Pittsburgh Bridgesdataset.\n",
    "\n",
    "**Key words**:Statistical Learning, Machine Learning, Bridge Design.\n",
    "\n",
    "## TOC:\n",
    "* [Imports Section](#imports-section)\n",
    "* [Dataset's Attributes Description](#attributes-description)\n",
    "* [Data Preparation and Investigation](#data-preparation)\n",
    "* [Learning Models](#learning-models)\n",
    "* [Improvements and Conclusions](#improvements-and-conclusions)\n",
    "* [References](#references)"
   ]
  },
  {
   "cell_type": "markdown",
   "metadata": {},
   "source": [
    "### Imports Section <a class=\"anchor\" id=\"imports-section\"></a>"
   ]
  },
  {
   "cell_type": "code",
   "execution_count": 1,
   "metadata": {},
   "outputs": [
    {
     "name": "stdout",
     "output_type": "stream",
     "text": [
      "Automatically created module for IPython interactive environment\n"
     ]
    }
   ],
   "source": [
    "# =========================================================================== #\n",
    "# STANDARD IMPORTS\n",
    "# =========================================================================== #\n",
    "print(__doc__)\n",
    "\n",
    "# Critical Imports\n",
    "# --------------------------------------------------------------------------- #\n",
    "import warnings; warnings.filterwarnings(\"ignore\")\n",
    "\n",
    "# Imports through 'from' syntax\n",
    "# --------------------------------------------------------------------------- #\n",
    "from pprint import pprint\n",
    "from IPython.display import display\n",
    "from itertools import islice\n",
    "\n",
    "# Standard Imports\n",
    "# --------------------------------------------------------------------------- #\n",
    "import copy; import os\n",
    "import sys; import time\n",
    "import itertools\n",
    "\n",
    "# Imports through 'as' syntax\n",
    "# --------------------------------------------------------------------------- #\n",
    "import numpy as np; import pandas as pd\n",
    "\n",
    "# Imports for handling graphics\n",
    "# --------------------------------------------------------------------------- #\n",
    "%matplotlib inline\n",
    "# Matplotlib pyplot provides plotting API\n",
    "import matplotlib as mpl\n",
    "from matplotlib import pyplot as plt\n",
    "import chart_studio.plotly.plotly as py\n",
    "import seaborn as sns;  sns.set(style=\"ticks\", color_codes=True) # sns.set()"
   ]
  },
  {
   "cell_type": "code",
   "execution_count": 2,
   "metadata": {},
   "outputs": [],
   "source": [
    "# =========================================================================== #\n",
    "# UTILS IMPORTS (Done by myself)\n",
    "# =========================================================================== #\n",
    "from utils.load_dataset_pittsburg_utils import load_brdiges_dataset\n",
    "from utils.utilities_functions import *\n",
    "from utils.display_utils import *\n",
    "from utils.preprocessing_utils import *\n",
    "from utils.training_utils import *\n",
    "from utils.sklearn_functions_custom import *\n",
    "from utils.training_utils_v2 import fit_by_n_components, fit_all_by_n_components, grid_search_all_by_n_components"
   ]
  },
  {
   "cell_type": "code",
   "execution_count": 3,
   "metadata": {},
   "outputs": [],
   "source": [
    "# =========================================================================== #\n",
    "# sklearn IMPORT\n",
    "# =========================================================================== #\n",
    "from sklearn.decomposition import PCA, KernelPCA\n",
    "\n",
    "# Import scikit-learn classes: models (Estimators).\n",
    "from sklearn.naive_bayes import GaussianNB           # Non-parametric Generative Model\n",
    "from sklearn.naive_bayes import MultinomialNB        # Non-parametric Generative Model\n",
    "from sklearn.linear_model import LinearRegression    # Parametric Linear Discriminative Model\n",
    "from sklearn.linear_model import LogisticRegression  # Parametric Linear Discriminative Model\n",
    "from sklearn.linear_model import Ridge, Lasso\n",
    "from sklearn.neighbors import KNeighborsClassifier\n",
    "from sklearn.svm import SVC                          # Parametric Linear Discriminative \"Support Vector Classifier\"\n",
    "from sklearn.tree import DecisionTreeClassifier      # Non-parametric Model\n",
    "from sklearn.ensemble import BaggingClassifier       # Non-parametric Model (Meta-Estimator, that is, an Ensemble Method)\n",
    "from sklearn.ensemble import RandomForestClassifier  # Non-parametric Model (Meta-Estimator, that is, an Ensemble Method)"
   ]
  },
  {
   "cell_type": "code",
   "execution_count": 4,
   "metadata": {},
   "outputs": [
    {
     "data": {
      "text/plain": [
       "{'RIVER': {'A': 1, 'M': 2, 'O': 3, 'Y': 4},\n",
       " 'PURPOSE': {'AQUEDUCT': 1, 'HIGHWAY': 2, 'RR': 3},\n",
       " 'CLEAR-G': {'G': 1, 'N': 2},\n",
       " 'T-OR-D': {'DECK': 1, 'THROUGH': 2},\n",
       " 'MATERIAL': {'IRON': 1, 'STEEL': 2, 'WOOD': 3},\n",
       " 'SPAN': {'LONG': 1, 'MEDIUM': 2, 'SHORT': 3},\n",
       " 'REL-L': {'F': 1, 'S': 2, 'S-F': 3},\n",
       " 'TYPE': {'ARCH': 1,\n",
       "  'CANTILEV': 2,\n",
       "  'CONT-T': 3,\n",
       "  'SIMPLE-T': 4,\n",
       "  'SUSPEN': 5,\n",
       "  'WOOD': 6}}"
      ]
     },
     "execution_count": 4,
     "metadata": {},
     "output_type": "execute_result"
    }
   ],
   "source": [
    "# =========================================================================== #\n",
    "# READ INPUT DATASET\n",
    "# =========================================================================== #\n",
    "\n",
    "dataset_path = 'C:\\\\Users\\\\Francesco\\Documents\\\\datasets\\\\pittsburgh_dataset'\n",
    "dataset_name = 'bridges.data.csv'\n",
    "\n",
    "TARGET_COL = 'T-OR-D'  # Target variable name\n",
    "dataset, feature_vs_values = load_brdiges_dataset(dataset_path, dataset_name)\n",
    "feature_vs_values"
   ]
  },
  {
   "cell_type": "code",
   "execution_count": 5,
   "metadata": {},
   "outputs": [],
   "source": [
    "# sns.pairplot(dataset, hue='T-OR-D', size=1.5)"
   ]
  },
  {
   "cell_type": "code",
   "execution_count": 6,
   "metadata": {},
   "outputs": [
    {
     "name": "stdout",
     "output_type": "stream",
     "text": [
      "{'A': 1, 'M': 2, 'O': 3, 'Y': 4}\n",
      "            A     M     O\n",
      "DECK      8.0   5.0   NaN\n",
      "THROUGH  27.0  20.0  10.0\n",
      "   DECK  THROUGH\n",
      "A   8.0     27.0\n",
      "M   5.0     20.0\n",
      "O   NaN     10.0\n"
     ]
    },
    {
     "data": {
      "application/vnd.jupyter.widget-view+json": {
       "model_id": "3c5d528ac3df4c6ab0bae05f33de9a5c",
       "version_major": 2,
       "version_minor": 0
      },
      "text/plain": [
       "HBox(children=(Output(), Output()))"
      ]
     },
     "metadata": {},
     "output_type": "display_data"
    },
    {
     "data": {
      "image/png": "[encoded data removed]",
      "text/plain": [
       "<Figure size 1080x216 with 3 Axes>"
      ]
     },
     "metadata": {},
     "output_type": "display_data"
    }
   ],
   "source": [
    "columns_2_avoid = ['ERECTED', 'LENGTH', 'LOCATION']\n",
    "\n",
    "show_frequency_distribution_predictor(dataset, predictor_name='RIVER', columns_2_avoid=columns_2_avoid,\n",
    "                                      features_vs_values=feature_vs_values, hue=TARGET_COL, verbose=1)"
   ]
  },
  {
   "cell_type": "code",
   "execution_count": 7,
   "metadata": {},
   "outputs": [
    {
     "name": "stdout",
     "output_type": "stream",
     "text": [
      "{'DECK': 1, 'THROUGH': 2}\n"
     ]
    },
    {
     "data": {
      "image/png": "[encoded data removed]",
      "text/plain": [
       "<Figure size 432x288 with 1 Axes>"
      ]
     },
     "metadata": {},
     "output_type": "display_data"
    }
   ],
   "source": [
    "# show_frequency_distribution_predictors(dataset, columns_2_avoid)\n",
    "show_frequency_distribution_predictor(dataset, predictor_name='T-OR-D', columns_2_avoid=columns_2_avoid,\n",
    "                                      features_vs_values=feature_vs_values, hue=None, verbose=1)"
   ]
  },
  {
   "cell_type": "code",
   "execution_count": null,
   "metadata": {},
   "outputs": [],
   "source": [
    "# show_frequency_distribution_predictors(dataset, columns_2_avoid)\n",
    "show_frequency_distribution_predictor(dataset, predictor_name='CLEAR-G', columns_2_avoid=columns_2_avoid,\n",
    "                                      features_vs_values=feature_vs_values, hue=TARGET_COL)"
   ]
  },
  {
   "cell_type": "code",
   "execution_count": null,
   "metadata": {},
   "outputs": [],
   "source": [
    "# show_frequency_distribution_predictors(dataset, columns_2_avoid)\n",
    "show_frequency_distribution_predictor(dataset, predictor_name='SPAN', columns_2_avoid=columns_2_avoid,\n",
    "                                      features_vs_values=feature_vs_values, hue=TARGET_COL)"
   ]
  },
  {
   "cell_type": "code",
   "execution_count": null,
   "metadata": {},
   "outputs": [],
   "source": [
    "# show_frequency_distribution_predictors(dataset, columns_2_avoid)\n",
    "show_frequency_distribution_predictor(dataset, predictor_name='MATERIAL', columns_2_avoid=columns_2_avoid,\n",
    "                                      features_vs_values=feature_vs_values, hue=TARGET_COL)"
   ]
  },
  {
   "cell_type": "code",
   "execution_count": null,
   "metadata": {},
   "outputs": [],
   "source": [
    "# show_frequency_distribution_predictors(dataset, columns_2_avoid)\n",
    "show_frequency_distribution_predictor(dataset, predictor_name='REL-L', columns_2_avoid=columns_2_avoid,\n",
    "                                      features_vs_values=feature_vs_values, hue=TARGET_COL)"
   ]
  },
  {
   "cell_type": "code",
   "execution_count": null,
   "metadata": {},
   "outputs": [],
   "source": [
    "# show_frequency_distribution_predictors(dataset, columns_2_avoid)\n",
    "show_frequency_distribution_predictor(dataset, predictor_name='TYPE', columns_2_avoid=columns_2_avoid,\n",
    "                                      features_vs_values=feature_vs_values, hue=TARGET_COL)"
   ]
  },
  {
   "cell_type": "markdown",
   "metadata": {},
   "source": [
    "### Correlation Matrix Analysis"
   ]
  },
  {
   "cell_type": "code",
   "execution_count": null,
   "metadata": {},
   "outputs": [],
   "source": [
    "corr_result = dataset.corr()\n",
    "display_heatmap(corr_result)"
   ]
  },
  {
   "cell_type": "code",
   "execution_count": null,
   "metadata": {},
   "outputs": [],
   "source": [
    "show_pie_charts_corr_matrix(corr_result)"
   ]
  },
  {
   "cell_type": "code",
   "execution_count": null,
   "metadata": {},
   "outputs": [],
   "source": [
    "feature = \"PURPOSE\"\n",
    "dataset[[TARGET_COL, feature]].groupby([feature, TARGET_COL]).count()"
   ]
  },
  {
   "cell_type": "code",
   "execution_count": null,
   "metadata": {},
   "outputs": [],
   "source": [
    "dataset[[TARGET_COL, feature]].groupby([feature]).count()"
   ]
  },
  {
   "cell_type": "code",
   "execution_count": null,
   "metadata": {},
   "outputs": [],
   "source": [
    "dataset[[TARGET_COL, feature]].groupby([feature])[TARGET_COL].plot(kind = 'hist', stacked=True)"
   ]
  },
  {
   "cell_type": "code",
   "execution_count": null,
   "metadata": {},
   "outputs": [],
   "source": [
    "dataset.pivot(columns=TARGET_COL)[feature].plot(kind = 'hist', stacked=True)"
   ]
  },
  {
   "cell_type": "code",
   "execution_count": null,
   "metadata": {},
   "outputs": [],
   "source": []
  },
  {
   "cell_type": "code",
   "execution_count": null,
   "metadata": {},
   "outputs": [],
   "source": [
    "show_full_stacktrace_error = True\n",
    "try:\n",
    "    g = sns.PairGrid(dataset)\n",
    "    g.map_upper(plt.scatter)\n",
    "    g.map_lower(sns.kdeplot)\n",
    "    g.map_diag(sns.kdeplot, lw=3, legend=False);\n",
    "except Exception as err:\n",
    "    if show_full_stacktrace_error is True:\n",
    "        raise err\n",
    "    else:\n",
    "        print(str(err))\n",
    "    pass"
   ]
  },
  {
   "cell_type": "code",
   "execution_count": null,
   "metadata": {},
   "outputs": [],
   "source": [
    "g = sns.PairGrid(dataset)\n",
    "g.map_diag(plt.hist)\n",
    "g.map_offdiag(plt.scatter);"
   ]
  },
  {
   "cell_type": "code",
   "execution_count": null,
   "metadata": {},
   "outputs": [],
   "source": [
    "\n",
    "show_full_stacktrace_error = True\n",
    "try:\n",
    "    g = sns.pairplot(dataset, hue=TARGET_COL, palette=\"Set2\", diag_kind=\"kde\", height=2.5)\n",
    "except Exception as err:\n",
    "    if show_full_stacktrace_error is True:\n",
    "        raise err\n",
    "    else:\n",
    "        print(str(err))\n",
    "    pass"
   ]
  },
  {
   "cell_type": "code",
   "execution_count": null,
   "metadata": {},
   "outputs": [],
   "source": [
    "g = sns.PairGrid(dataset, hue=TARGET_COL)\n",
    "g.map_diag(plt.hist)\n",
    "g.map_offdiag(plt.scatter)\n",
    "g.add_legend();"
   ]
  }
 ],
 "metadata": {
  "kernelspec": {
   "display_name": "Python 3",
   "language": "python",
   "name": "python3"
  },
  "language_info": {
   "codemirror_mode": {
    "name": "ipython",
    "version": 3
   },
   "file_extension": ".py",
   "mimetype": "text/x-python",
   "name": "python",
   "nbconvert_exporter": "python",
   "pygments_lexer": "ipython3",
   "version": "3.7.7"
  }
 },
 "nbformat": 4,
 "nbformat_minor": 2
}
