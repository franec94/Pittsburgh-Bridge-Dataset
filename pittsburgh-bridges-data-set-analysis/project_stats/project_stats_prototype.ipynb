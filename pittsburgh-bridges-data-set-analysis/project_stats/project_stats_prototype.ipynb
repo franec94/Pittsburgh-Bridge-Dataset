{
 "cells": [
  {
   "cell_type": "markdown",
   "metadata": {},
   "source": [
    "# manage utils dir"
   ]
  },
  {
   "cell_type": "code",
   "execution_count": null,
   "metadata": {},
   "outputs": [],
   "source": [
    "print(__doc__)\n",
    "\n",
    "from itertools import islice;\n",
    "from pprint import pprint;\n",
    "from sklearn import preprocessing;\n",
    "\n",
    "import copy; import os;\n",
    "import sys; import shutil;\n",
    "import time;\n",
    "\n",
    "import numpy as np; import pandas as pd;\n",
    "\n",
    "%matplotlib inline\n",
    "# Matplotlib pyplot provides plotting API\n",
    "import matplotlib as mpl\n",
    "from matplotlib import pyplot as plt\n",
    "import chart_studio.plotly.plotly as py\n",
    "import seaborn as sns; sns.set()"
   ]
  },
  {
   "cell_type": "code",
   "execution_count": null,
   "metadata": {},
   "outputs": [],
   "source": [
    "def dir_traversal_by_os_walk(root_dir_path: str, verbose: int = 0) -> list:\n",
    "    resources_list: list = [(root, dirs, files) for root, dirs, files, in os.walk(root_dir_path)]  \n",
    "    \n",
    "    if verbose == 1:\n",
    "        print(\"List of all sub-directories and files:\")  \n",
    "        for (root, dirs, files)  in resources_list: \n",
    "            print('Root:', root)\n",
    "            print('Directories:', dirs)\n",
    "            print('Files:', files)\n",
    "    return resources_list\n",
    "\n",
    "def get_df_from_list_of_os_walk_numeric(resources_list: list, columns=\"root,dirs,files\", verbose: int = 1) -> pd.DataFrame:\n",
    "    if type(columns) is not list:\n",
    "        columns = \"root,dirs,files\".split(\",\")\n",
    "    stats_list: list = list(map(lambda record: (record[0], len(record[1]), len(record[2])), resources_list))\n",
    "    df: pd.DataFrame = pd.DataFrame(data=stats_list, columns=columns)\n",
    "    return df\n",
    "\n",
    "def get_df_from_list_of_os_walk(resources_list: list, columns=\"root,dirs,files\", verbose: int = 1) -> pd.DataFrame:\n",
    "    data: list = list()\n",
    "    if type(columns) is not list:\n",
    "        columns = \"root,dirs,files\".split(\",\")\n",
    "    for _, (root, dirs, files) in enumerate(resources_list):\n",
    "        for _, a_file in enumerate(files):\n",
    "            a_record: list = [root, os.path.dirname(a_file), os.path.basename(a_file)]\n",
    "            data.append(a_record)\n",
    "            pass\n",
    "        pass\n",
    "    df: pd.DataFrame = pd.DataFrame(data=data, columns=columns)\n",
    "    return df\n",
    "\n",
    "def get_df_from_list_of_os_walk_numeric_indexed(resources_list: list, columns=\"dirs,files\", verbose: int = 1) -> pd.DataFrame:\n",
    "    if type(columns) is not list:\n",
    "        columns = \"root,dirs,files\".split(\",\")\n",
    "    stats_list: list = list(map(lambda record: (len(record[1]), len(record[2])), resources_list))\n",
    "    index_list: list = list(map(lambda record: record[0], resources_list))\n",
    "    \n",
    "    df: pd.DataFrame = pd.DataFrame(data=stats_list, columns=columns, index=index_list)\n",
    "    return df"
   ]
  },
  {
   "cell_type": "code",
   "execution_count": null,
   "metadata": {},
   "outputs": [],
   "source": [
    "ROOT_DIR_PATH = \"C:\\\\Users\\\\Francesco\\\\Desktop\" # \".\"\n",
    "resources_list = dir_traversal_by_os_walk(root_dir_path=ROOT_DIR_PATH, verbose=0)"
   ]
  },
  {
   "cell_type": "code",
   "execution_count": null,
   "metadata": {},
   "outputs": [],
   "source": [
    "df_indexed = get_df_from_list_of_os_walk_numeric_indexed(resources_list=resources_list, columns=\"dirs,files\".split(\",\"))\n",
    "assert df_indexed is not None, \"df_indexed is None\""
   ]
  },
  {
   "cell_type": "code",
   "execution_count": null,
   "metadata": {},
   "outputs": [],
   "source": [
    "df_indexed.info()"
   ]
  },
  {
   "cell_type": "code",
   "execution_count": null,
   "metadata": {},
   "outputs": [],
   "source": [
    "df_indexed.head(5)"
   ]
  },
  {
   "cell_type": "code",
   "execution_count": null,
   "metadata": {},
   "outputs": [],
   "source": [
    "criteria = (df_indexed[\"dirs\"] != 0) & (df_indexed[\"files\"] != 0)\n",
    "df_indexed[criteria]"
   ]
  },
  {
   "cell_type": "code",
   "execution_count": null,
   "metadata": {},
   "outputs": [],
   "source": [
    "df = get_df_from_list_of_os_walk_numeric(resources_list=resources_list)\n",
    "assert df is not None, \"df is None\""
   ]
  },
  {
   "cell_type": "code",
   "execution_count": null,
   "metadata": {},
   "outputs": [],
   "source": [
    "df.info()"
   ]
  },
  {
   "cell_type": "code",
   "execution_count": null,
   "metadata": {},
   "outputs": [],
   "source": [
    "# print(df.head(df.shape[0]))\n",
    "df.head(5)"
   ]
  },
  {
   "cell_type": "code",
   "execution_count": null,
   "metadata": {},
   "outputs": [],
   "source": [
    "df[[\"dirs\", \"files\"]].agg(['sum', 'max', 'min', 'mean', 'std'])"
   ]
  },
  {
   "cell_type": "code",
   "execution_count": null,
   "metadata": {},
   "outputs": [],
   "source": [
    "df[[\"dirs\", \"files\"]].describe(include='all')"
   ]
  },
  {
   "cell_type": "code",
   "execution_count": null,
   "metadata": {},
   "outputs": [],
   "source": [
    "res_stats = df[[\"dirs\", \"files\"]].describe(include='all')\n",
    "loc_max: int = res_stats.index.get_loc('max')\n",
    "loc_min: int = res_stats.index.get_loc('min')\n",
    "max_val = int(max(res_stats.loc[res_stats.index[loc_max]]))\n",
    "min_val = int(min(res_stats.loc[res_stats.index[loc_min]]))\n",
    "bins = range(min_val, max_val)\n",
    "df[[\"dirs\", \"files\"]].hist(bins=bins)"
   ]
  },
  {
   "cell_type": "code",
   "execution_count": null,
   "metadata": {},
   "outputs": [],
   "source": [
    "type(res_stats.index)"
   ]
  },
  {
   "cell_type": "code",
   "execution_count": null,
   "metadata": {},
   "outputs": [],
   "source": [
    "def file2ext(file_name: str) ->str:\n",
    "    tmp_res: str = os.path.basename(file_name)\n",
    "    filename, file_extension = os.path.splitext(tmp_res)\n",
    "    if len(file_extension) == 0: return \"-\"\n",
    "    return file_extension\n",
    "df = get_df_from_list_of_os_walk(resources_list=resources_list, columns=\"root,dirs,files\", verbose=0)"
   ]
  },
  {
   "cell_type": "code",
   "execution_count": null,
   "metadata": {},
   "outputs": [],
   "source": [
    "df.info()"
   ]
  },
  {
   "cell_type": "code",
   "execution_count": null,
   "metadata": {},
   "outputs": [],
   "source": [
    "# type(df[[\"files\"]].applymap(file2ext))\n",
    "pd.unique(df[[\"files\"]].applymap(file2ext)[\"files\"].values)"
   ]
  },
  {
   "cell_type": "code",
   "execution_count": null,
   "metadata": {},
   "outputs": [],
   "source": [
    "# type(df[[\"files\"]].applymap(file2ext)[\"files\"].value_counts())\n",
    "df[[\"files\"]].applymap(file2ext)[\"files\"].value_counts().to_frame().T"
   ]
  },
  {
   "cell_type": "code",
   "execution_count": null,
   "metadata": {},
   "outputs": [],
   "source": [
    "# df[[\"files\"]].applymap(file2ext)[\"files\"].value_counts().to_frame().hist()\n",
    "ext_df: pd.DataFrame = df[[\"files\"]].applymap(file2ext)\n",
    "predictor = ext_df[\"files\"].value_counts()\n",
    "sns.barplot(predictor.index, predictor.values, alpha=0.9)"
   ]
  },
  {
   "cell_type": "code",
   "execution_count": null,
   "metadata": {},
   "outputs": [],
   "source": [
    "type(predictor)"
   ]
  },
  {
   "cell_type": "code",
   "execution_count": null,
   "metadata": {},
   "outputs": [],
   "source": [
    "tmp_df = pd.DataFrame(data=predictor.values, columns=[\"File Ext\"], index=predictor.index)\n",
    "tmp_df.plot.pie(y='File Ext', figsize=(5, 5))"
   ]
  },
  {
   "cell_type": "code",
   "execution_count": null,
   "metadata": {},
   "outputs": [],
   "source": [
    "pred_rescaled = preprocessing.normalize(predictor.values[:,np.newaxis], axis=0).ravel()\n",
    "sns.barplot(predictor.index, pred_rescaled, alpha=0.9)"
   ]
  },
  {
   "cell_type": "code",
   "execution_count": null,
   "metadata": {},
   "outputs": [],
   "source": [
    "tmp_df = pd.DataFrame(data=predictor.values, columns=[\"File Ext\"], index=predictor.index)\n",
    "tmp_df.plot.pie(y='File Ext', figsize=(5, 5))"
   ]
  },
  {
   "cell_type": "code",
   "execution_count": null,
   "metadata": {},
   "outputs": [],
   "source": [
    "min_max_scaler = preprocessing.MinMaxScaler()\n",
    "a_scaler = min_max_scaler\n",
    "pred_rescaled = a_scaler.fit_transform(predictor.values[:,np.newaxis]).ravel()\n",
    "sns.barplot(predictor.index, pred_rescaled, alpha=0.9)"
   ]
  },
  {
   "cell_type": "code",
   "execution_count": null,
   "metadata": {},
   "outputs": [],
   "source": [
    "tmp_df = pd.DataFrame(data=predictor.values, columns=[\"File Ext\"], index=predictor.index)\n",
    "tmp_df.plot.pie(y='File Ext', figsize=(5, 5))"
   ]
  },
  {
   "cell_type": "code",
   "execution_count": null,
   "metadata": {},
   "outputs": [],
   "source": [
    "standard_scaler = preprocessing.StandardScaler()\n",
    "a_scaler = standard_scaler\n",
    "pred_rescaled = a_scaler.fit_transform(predictor.values[:,np.newaxis]).ravel()\n",
    "sns.barplot(predictor.index, pred_rescaled, alpha=0.9)"
   ]
  },
  {
   "cell_type": "code",
   "execution_count": null,
   "metadata": {},
   "outputs": [],
   "source": [
    "tmp_df = pd.DataFrame(data=predictor.values, columns=[\"File Ext\"], index=predictor.index)\n",
    "tmp_df.plot.pie(y='File Ext', figsize=(5, 5))"
   ]
  },
  {
   "cell_type": "markdown",
   "metadata": {},
   "source": [
    "## References:\n",
    "\n",
    "## Scikit-Learn:\n",
    "### Objects:\n",
    "    - (StandardScaler) https://scikit-learn.org/stable/modules/generated/sklearn.preprocessing.StandardScaler.html"
   ]
  },
  {
   "cell_type": "code",
   "execution_count": null,
   "metadata": {},
   "outputs": [],
   "source": []
  }
 ],
 "metadata": {
  "kernelspec": {
   "display_name": "Python 3",
   "language": "python",
   "name": "python3"
  },
  "language_info": {
   "codemirror_mode": {
    "name": "ipython",
    "version": 3
   },
   "file_extension": ".py",
   "mimetype": "text/x-python",
   "name": "python",
   "nbconvert_exporter": "python",
   "pygments_lexer": "ipython3",
   "version": "3.7.6"
  }
 },
 "nbformat": 4,
 "nbformat_minor": 4
}
