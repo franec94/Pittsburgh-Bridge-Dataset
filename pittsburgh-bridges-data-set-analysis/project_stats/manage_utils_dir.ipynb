{
 "cells": [
  {
   "cell_type": "markdown",
   "metadata": {},
   "source": [
    "# manage utils dir"
   ]
  },
  {
   "cell_type": "code",
   "execution_count": 1,
   "metadata": {},
   "outputs": [],
   "source": [
    "from pprint import pprint\n",
    "\n",
    "import copy; import os;\n",
    "import sys; import shutil;\n",
    "import time;\n",
    "\n",
    "import numpy as np; import pandas as pd;"
   ]
  },
  {
   "cell_type": "code",
   "execution_count": 2,
   "metadata": {},
   "outputs": [],
   "source": [
    "def dir_traversal_by_os_walk(root_dir_path: str, verbose: int = 0) -> list:\n",
    "    resources_list: list = [(root, dirs, files) for root, dirs, files, in os.walk(root_dir_path)]  \n",
    "    \n",
    "    if verbose == 1:\n",
    "        print(\"List of all sub-directories and files:\")  \n",
    "        for (root, dirs, files)  in resources_list: \n",
    "            print('Root:', root)\n",
    "            print('Directories:', dirs)\n",
    "            print('Files:', files)\n",
    "    return resources_list\n",
    "\n",
    "def get_df_from_list_of_os_walk_numeric(resources_list: list, columns=\"root,dirs,files\", verbose: int = 1) -> pd.DataFrame:\n",
    "    if type(columns) is not list:\n",
    "        columns = \"root,dirs,files\".split(\",\")\n",
    "    stats_list: list = list(map(lambda record: (record[0], len(record[1]), len(record[2])), resources_list))\n",
    "    df: pd.DataFrame = pd.DataFrame(data=stats_list, columns=columns)\n",
    "    return df\n",
    "\n",
    "def get_df_from_list_of_os_walk(resources_list: list, columns=\"root,dirs,files\", verbose: int = 1) -> pd.DataFrame:\n",
    "    data: list = list()\n",
    "    if type(columns) is not list:\n",
    "        columns = \"root,dirs,files\".split(\",\")\n",
    "    for _, (root, dirs, files) in enumerate(resources_list):\n",
    "        for _, a_file in enumerate(files):\n",
    "            a_record: list = [root, os.path.dirname(a_file), os.path.basename(a_file)]\n",
    "            pass\n",
    "        data.append(a_record)\n",
    "        pass\n",
    "    df: pd.DataFrame = pd.DataFrame(data=data, columns=columns)\n",
    "    return df"
   ]
  },
  {
   "cell_type": "code",
   "execution_count": 3,
   "metadata": {},
   "outputs": [],
   "source": [
    "root_dir_path = \".\"\n",
    "\n",
    "resources_list = dir_traversal_by_os_walk(root_dir_path=root_dir_path, verbose=0)\n",
    "df = get_df_from_list_of_os_walk_numeric(resources_list=resources_list)\n",
    "assert df is not None, \"df is None\""
   ]
  },
  {
   "cell_type": "code",
   "execution_count": 4,
   "metadata": {},
   "outputs": [
    {
     "name": "stdout",
     "output_type": "stream",
     "text": [
      "                               root  dirs  files\n",
      "0                                 .     6     13\n",
      "1              .\\.ipynb_checkpoints     0     12\n",
      "2                         .\\figures     8      1\n",
      "3      .\\figures\\.ipynb_checkpoints     0      0\n",
      "4  .\\figures\\DecisionTreeClassifier     0      0\n"
     ]
    }
   ],
   "source": [
    "# print(df.head(df.shape[0]))\n",
    "print(df.head(5))"
   ]
  },
  {
   "cell_type": "code",
   "execution_count": 5,
   "metadata": {},
   "outputs": [
    {
     "data": {
      "text/html": [
       "<div>\n",
       "<style scoped>\n",
       "    .dataframe tbody tr th:only-of-type {\n",
       "        vertical-align: middle;\n",
       "    }\n",
       "\n",
       "    .dataframe tbody tr th {\n",
       "        vertical-align: top;\n",
       "    }\n",
       "\n",
       "    .dataframe thead th {\n",
       "        text-align: right;\n",
       "    }\n",
       "</style>\n",
       "<table border=\"1\" class=\"dataframe\">\n",
       "  <thead>\n",
       "    <tr style=\"text-align: right;\">\n",
       "      <th></th>\n",
       "      <th>dirs</th>\n",
       "      <th>files</th>\n",
       "    </tr>\n",
       "  </thead>\n",
       "  <tbody>\n",
       "    <tr>\n",
       "      <th>sum</th>\n",
       "      <td>139.000000</td>\n",
       "      <td>257.000000</td>\n",
       "    </tr>\n",
       "    <tr>\n",
       "      <th>max</th>\n",
       "      <td>8.000000</td>\n",
       "      <td>13.000000</td>\n",
       "    </tr>\n",
       "    <tr>\n",
       "      <th>min</th>\n",
       "      <td>0.000000</td>\n",
       "      <td>0.000000</td>\n",
       "    </tr>\n",
       "    <tr>\n",
       "      <th>mean</th>\n",
       "      <td>0.992857</td>\n",
       "      <td>1.835714</td>\n",
       "    </tr>\n",
       "    <tr>\n",
       "      <th>std</th>\n",
       "      <td>1.871776</td>\n",
       "      <td>2.187639</td>\n",
       "    </tr>\n",
       "  </tbody>\n",
       "</table>\n",
       "</div>"
      ],
      "text/plain": [
       "            dirs       files\n",
       "sum   139.000000  257.000000\n",
       "max     8.000000   13.000000\n",
       "min     0.000000    0.000000\n",
       "mean    0.992857    1.835714\n",
       "std     1.871776    2.187639"
      ]
     },
     "execution_count": 5,
     "metadata": {},
     "output_type": "execute_result"
    }
   ],
   "source": [
    "df[[\"dirs\", \"files\"]].agg(['sum', 'max', 'min', 'mean', 'std'])"
   ]
  },
  {
   "cell_type": "code",
   "execution_count": 6,
   "metadata": {},
   "outputs": [
    {
     "data": {
      "text/html": [
       "<div>\n",
       "<style scoped>\n",
       "    .dataframe tbody tr th:only-of-type {\n",
       "        vertical-align: middle;\n",
       "    }\n",
       "\n",
       "    .dataframe tbody tr th {\n",
       "        vertical-align: top;\n",
       "    }\n",
       "\n",
       "    .dataframe thead th {\n",
       "        text-align: right;\n",
       "    }\n",
       "</style>\n",
       "<table border=\"1\" class=\"dataframe\">\n",
       "  <thead>\n",
       "    <tr style=\"text-align: right;\">\n",
       "      <th></th>\n",
       "      <th>dirs</th>\n",
       "      <th>files</th>\n",
       "    </tr>\n",
       "  </thead>\n",
       "  <tbody>\n",
       "    <tr>\n",
       "      <th>count</th>\n",
       "      <td>140.000000</td>\n",
       "      <td>140.000000</td>\n",
       "    </tr>\n",
       "    <tr>\n",
       "      <th>mean</th>\n",
       "      <td>0.992857</td>\n",
       "      <td>1.835714</td>\n",
       "    </tr>\n",
       "    <tr>\n",
       "      <th>std</th>\n",
       "      <td>1.871776</td>\n",
       "      <td>2.187639</td>\n",
       "    </tr>\n",
       "    <tr>\n",
       "      <th>min</th>\n",
       "      <td>0.000000</td>\n",
       "      <td>0.000000</td>\n",
       "    </tr>\n",
       "    <tr>\n",
       "      <th>25%</th>\n",
       "      <td>0.000000</td>\n",
       "      <td>0.000000</td>\n",
       "    </tr>\n",
       "    <tr>\n",
       "      <th>50%</th>\n",
       "      <td>0.000000</td>\n",
       "      <td>2.000000</td>\n",
       "    </tr>\n",
       "    <tr>\n",
       "      <th>75%</th>\n",
       "      <td>1.000000</td>\n",
       "      <td>2.000000</td>\n",
       "    </tr>\n",
       "    <tr>\n",
       "      <th>max</th>\n",
       "      <td>8.000000</td>\n",
       "      <td>13.000000</td>\n",
       "    </tr>\n",
       "  </tbody>\n",
       "</table>\n",
       "</div>"
      ],
      "text/plain": [
       "             dirs       files\n",
       "count  140.000000  140.000000\n",
       "mean     0.992857    1.835714\n",
       "std      1.871776    2.187639\n",
       "min      0.000000    0.000000\n",
       "25%      0.000000    0.000000\n",
       "50%      0.000000    2.000000\n",
       "75%      1.000000    2.000000\n",
       "max      8.000000   13.000000"
      ]
     },
     "execution_count": 6,
     "metadata": {},
     "output_type": "execute_result"
    }
   ],
   "source": [
    "df[[\"dirs\", \"files\"]].describe(include='all')"
   ]
  },
  {
   "cell_type": "code",
   "execution_count": 7,
   "metadata": {},
   "outputs": [
    {
     "data": {
      "text/plain": [
       "array([[<matplotlib.axes._subplots.AxesSubplot object at 0x0000018BDED3C948>,\n",
       "        <matplotlib.axes._subplots.AxesSubplot object at 0x0000018BE00D7488>]],\n",
       "      dtype=object)"
      ]
     },
     "execution_count": 7,
     "metadata": {},
     "output_type": "execute_result"
    },
    {
     "data": {
      "image/png": "[encoded data removed]",
      "text/plain": [
       "<Figure size 432x288 with 2 Axes>"
      ]
     },
     "metadata": {
      "needs_background": "light"
     },
     "output_type": "display_data"
    }
   ],
   "source": [
    "res_stats = df[[\"dirs\", \"files\"]].describe(include='all')\n",
    "max_val = int(max(res_stats.loc[res_stats.index[7]]))\n",
    "min_val = int(min(res_stats.loc[res_stats.index[3]]))\n",
    "bins = range(min_val, max_val)\n",
    "df[[\"dirs\", \"files\"]].hist(bins=bins)"
   ]
  },
  {
   "cell_type": "code",
   "execution_count": 10,
   "metadata": {},
   "outputs": [],
   "source": [
    "def file2ext(file_name: str) ->str:\n",
    "    tmp_res: str = os.path.basename(file_name)\n",
    "    filename, file_extension = os.path.splitext(tmp_res)\n",
    "    return file_extension\n",
    "df = get_df_from_list_of_os_walk(resources_list=resources_list, columns=\"root,dirs,files\", verbose=0)"
   ]
  },
  {
   "cell_type": "code",
   "execution_count": 15,
   "metadata": {},
   "outputs": [
    {
     "data": {
      "text/plain": [
       "array(['.ipynb', '.png', '.py', '.json', '.pyc'], dtype=object)"
      ]
     },
     "execution_count": 15,
     "metadata": {},
     "output_type": "execute_result"
    }
   ],
   "source": [
    "# type(df[[\"files\"]].applymap(file2ext))\n",
    "pd.unique(df[[\"files\"]].applymap(file2ext)[\"files\"].values)"
   ]
  },
  {
   "cell_type": "code",
   "execution_count": 22,
   "metadata": {},
   "outputs": [
    {
     "data": {
      "text/html": [
       "<div>\n",
       "<style scoped>\n",
       "    .dataframe tbody tr th:only-of-type {\n",
       "        vertical-align: middle;\n",
       "    }\n",
       "\n",
       "    .dataframe tbody tr th {\n",
       "        vertical-align: top;\n",
       "    }\n",
       "\n",
       "    .dataframe thead th {\n",
       "        text-align: right;\n",
       "    }\n",
       "</style>\n",
       "<table border=\"1\" class=\"dataframe\">\n",
       "  <thead>\n",
       "    <tr style=\"text-align: right;\">\n",
       "      <th></th>\n",
       "      <th>.png</th>\n",
       "      <th>.py</th>\n",
       "      <th>.ipynb</th>\n",
       "      <th>.json</th>\n",
       "      <th>.pyc</th>\n",
       "    </tr>\n",
       "  </thead>\n",
       "  <tbody>\n",
       "    <tr>\n",
       "      <th>files</th>\n",
       "      <td>121</td>\n",
       "      <td>9</td>\n",
       "      <td>8</td>\n",
       "      <td>1</td>\n",
       "      <td>1</td>\n",
       "    </tr>\n",
       "  </tbody>\n",
       "</table>\n",
       "</div>"
      ],
      "text/plain": [
       "       .png  .py  .ipynb  .json  .pyc\n",
       "files   121    9       8      1     1"
      ]
     },
     "execution_count": 22,
     "metadata": {},
     "output_type": "execute_result"
    }
   ],
   "source": [
    "# type(df[[\"files\"]].applymap(file2ext)[\"files\"].value_counts())\n",
    "df[[\"files\"]].applymap(file2ext)[\"files\"].value_counts().to_frame().T"
   ]
  },
  {
   "cell_type": "code",
   "execution_count": null,
   "metadata": {},
   "outputs": [],
   "source": []
  }
 ],
 "metadata": {
  "kernelspec": {
   "display_name": "Python 3",
   "language": "python",
   "name": "python3"
  },
  "language_info": {
   "codemirror_mode": {
    "name": "ipython",
    "version": 3
   },
   "file_extension": ".py",
   "mimetype": "text/x-python",
   "name": "python",
   "nbconvert_exporter": "python",
   "pygments_lexer": "ipython3",
   "version": "3.7.6"
  }
 },
 "nbformat": 4,
 "nbformat_minor": 4
}
