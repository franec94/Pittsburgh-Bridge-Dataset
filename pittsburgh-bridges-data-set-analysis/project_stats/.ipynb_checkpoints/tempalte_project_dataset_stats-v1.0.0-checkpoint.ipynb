{
 "cells": [
  {
   "cell_type": "markdown",
   "metadata": {},
   "source": [
    "# manage utils dir"
   ]
  },
  {
   "cell_type": "code",
   "execution_count": 1,
   "metadata": {},
   "outputs": [
    {
     "name": "stdout",
     "output_type": "stream",
     "text": [
      "Automatically created module for IPython interactive environment\n"
     ]
    }
   ],
   "source": [
    "print(__doc__)\n",
    "\n",
    "# =========================================================================== #\n",
    "# Imports\n",
    "# =========================================================================== #\n",
    "\n",
    "# Critical Imports\n",
    "# --------------------------------------------------------------------------- #\n",
    "import warnings; warnings.filterwarnings(\"ignore\")\n",
    "\n",
    "# Imports through 'from' syntax\n",
    "# --------------------------------------------------------------------------- #\n",
    "from itertools import islice;\n",
    "from pprint import pprint;\n",
    "from sklearn import preprocessing;\n",
    "\n",
    "# Standard Imports\n",
    "# --------------------------------------------------------------------------- #\n",
    "import copy; import os;\n",
    "import sys; import shutil;\n",
    "import time;\n",
    "\n",
    "# Imports through 'as' syntax\n",
    "# --------------------------------------------------------------------------- #\n",
    "import numpy as np; import pandas as pd;\n",
    "\n",
    "# Imports for handling graphics\n",
    "# --------------------------------------------------------------------------- #\n",
    "%matplotlib inline\n",
    "# Matplotlib pyplot provides plotting API\n",
    "import matplotlib as mpl\n",
    "from matplotlib import pyplot as plt\n",
    "import chart_studio.plotly.plotly as py\n",
    "import seaborn as sns; sns.set()"
   ]
  },
  {
   "cell_type": "code",
   "execution_count": 2,
   "metadata": {},
   "outputs": [
    {
     "name": "stdout",
     "output_type": "stream",
     "text": [
      "None\n",
      "None\n"
     ]
    }
   ],
   "source": [
    "# Custom Imports\n",
    "# --------------------------------------------------------------------------- #\n",
    "from utils_stats.project_stats_utils import *\n",
    "from utils_stats.fit_utils import *"
   ]
  },
  {
   "cell_type": "code",
   "execution_count": 3,
   "metadata": {},
   "outputs": [],
   "source": [
    "# Set seed for code repeability\n",
    "# --------------------------------------------------------------------------- #\n",
    "np.random.seed(0)"
   ]
  },
  {
   "cell_type": "markdown",
   "metadata": {},
   "source": [
    "## Fetch datasets"
   ]
  },
  {
   "cell_type": "code",
   "execution_count": 4,
   "metadata": {},
   "outputs": [],
   "source": [
    "# GLOBAL VARS\n",
    "# --------------------------------------------------------------------------- #\n",
    "ROOT_DIR_PATH = \"..\""
   ]
  },
  {
   "cell_type": "code",
   "execution_count": null,
   "metadata": {},
   "outputs": [],
   "source": [
    "resources_list = dir_traversal_by_os_walk(root_dir_path=ROOT_DIR_PATH, verbose=0)"
   ]
  },
  {
   "cell_type": "code",
   "execution_count": 5,
   "metadata": {},
   "outputs": [
    {
     "data": {
      "text/html": [
       "<div>\n",
       "<style scoped>\n",
       "    .dataframe tbody tr th:only-of-type {\n",
       "        vertical-align: middle;\n",
       "    }\n",
       "\n",
       "    .dataframe tbody tr th {\n",
       "        vertical-align: top;\n",
       "    }\n",
       "\n",
       "    .dataframe thead th {\n",
       "        text-align: right;\n",
       "    }\n",
       "</style>\n",
       "<table border=\"1\" class=\"dataframe\">\n",
       "  <thead>\n",
       "    <tr style=\"text-align: right;\">\n",
       "      <th></th>\n",
       "      <th>root</th>\n",
       "      <th>dirs</th>\n",
       "      <th>files</th>\n",
       "      <th>files size</th>\n",
       "    </tr>\n",
       "  </thead>\n",
       "  <tbody>\n",
       "    <tr>\n",
       "      <th>0</th>\n",
       "      <td>..</td>\n",
       "      <td></td>\n",
       "      <td>.gitignore</td>\n",
       "      <td>19</td>\n",
       "    </tr>\n",
       "    <tr>\n",
       "      <th>1</th>\n",
       "      <td>..</td>\n",
       "      <td></td>\n",
       "      <td>Data Space Report (Official) - First Part Desc...</td>\n",
       "      <td>40694</td>\n",
       "    </tr>\n",
       "    <tr>\n",
       "      <th>2</th>\n",
       "      <td>..</td>\n",
       "      <td></td>\n",
       "      <td>Data Space Report (Official) - N-Dimensional A...</td>\n",
       "      <td>255278</td>\n",
       "    </tr>\n",
       "    <tr>\n",
       "      <th>3</th>\n",
       "      <td>..</td>\n",
       "      <td></td>\n",
       "      <td>Data Space Report (Official) - Two-Dimensional...</td>\n",
       "      <td>915132</td>\n",
       "    </tr>\n",
       "    <tr>\n",
       "      <th>4</th>\n",
       "      <td>..</td>\n",
       "      <td></td>\n",
       "      <td>Data Space Report (Official) - Two-Dimensional...</td>\n",
       "      <td>3252947</td>\n",
       "    </tr>\n",
       "  </tbody>\n",
       "</table>\n",
       "</div>"
      ],
      "text/plain": [
       "  root dirs                                              files  files size\n",
       "0   ..                                              .gitignore          19\n",
       "1   ..       Data Space Report (Official) - First Part Desc...       40694\n",
       "2   ..       Data Space Report (Official) - N-Dimensional A...      255278\n",
       "3   ..       Data Space Report (Official) - Two-Dimensional...      915132\n",
       "4   ..       Data Space Report (Official) - Two-Dimensional...     3252947"
      ]
     },
     "execution_count": 5,
     "metadata": {},
     "output_type": "execute_result"
    }
   ],
   "source": [
    "df = get_df_from_list_of_os_walk(resources_list)\n",
    "df.head(5)"
   ]
  },
  {
   "cell_type": "code",
   "execution_count": 6,
   "metadata": {},
   "outputs": [],
   "source": [
    "df_indexed = get_df_from_list_of_os_walk_numeric_indexed(resources_list=resources_list, columns=\"dirs,files\".split(\",\"))\n",
    "assert df_indexed is not None, \"df_indexed is None\""
   ]
  },
  {
   "cell_type": "code",
   "execution_count": 7,
   "metadata": {},
   "outputs": [
    {
     "name": "stdout",
     "output_type": "stream",
     "text": [
      "<class 'pandas.core.frame.DataFrame'>\n",
      "Index: 147 entries, .. to ..\\__pycache__\n",
      "Data columns (total 2 columns):\n",
      " #   Column  Non-Null Count  Dtype\n",
      "---  ------  --------------  -----\n",
      " 0   dirs    147 non-null    int64\n",
      " 1   files   147 non-null    int64\n",
      "dtypes: int64(2)\n",
      "memory usage: 3.4+ KB\n"
     ]
    }
   ],
   "source": [
    "df_indexed.info()"
   ]
  },
  {
   "cell_type": "code",
   "execution_count": 8,
   "metadata": {},
   "outputs": [
    {
     "data": {
      "text/html": [
       "<div>\n",
       "<style scoped>\n",
       "    .dataframe tbody tr th:only-of-type {\n",
       "        vertical-align: middle;\n",
       "    }\n",
       "\n",
       "    .dataframe tbody tr th {\n",
       "        vertical-align: top;\n",
       "    }\n",
       "\n",
       "    .dataframe thead th {\n",
       "        text-align: right;\n",
       "    }\n",
       "</style>\n",
       "<table border=\"1\" class=\"dataframe\">\n",
       "  <thead>\n",
       "    <tr style=\"text-align: right;\">\n",
       "      <th></th>\n",
       "      <th>dirs</th>\n",
       "      <th>files</th>\n",
       "    </tr>\n",
       "  </thead>\n",
       "  <tbody>\n",
       "    <tr>\n",
       "      <th>..</th>\n",
       "      <td>9</td>\n",
       "      <td>12</td>\n",
       "    </tr>\n",
       "    <tr>\n",
       "      <th>..\\.ipynb_checkpoints</th>\n",
       "      <td>0</td>\n",
       "      <td>11</td>\n",
       "    </tr>\n",
       "    <tr>\n",
       "      <th>..\\figures</th>\n",
       "      <td>8</td>\n",
       "      <td>1</td>\n",
       "    </tr>\n",
       "    <tr>\n",
       "      <th>..\\figures\\.ipynb_checkpoints</th>\n",
       "      <td>0</td>\n",
       "      <td>0</td>\n",
       "    </tr>\n",
       "    <tr>\n",
       "      <th>..\\figures\\DecisionTreeClassifier</th>\n",
       "      <td>0</td>\n",
       "      <td>0</td>\n",
       "    </tr>\n",
       "  </tbody>\n",
       "</table>\n",
       "</div>"
      ],
      "text/plain": [
       "                                   dirs  files\n",
       "..                                    9     12\n",
       "..\\.ipynb_checkpoints                 0     11\n",
       "..\\figures                            8      1\n",
       "..\\figures\\.ipynb_checkpoints         0      0\n",
       "..\\figures\\DecisionTreeClassifier     0      0"
      ]
     },
     "execution_count": 8,
     "metadata": {},
     "output_type": "execute_result"
    }
   ],
   "source": [
    "df_indexed.head(5)"
   ]
  },
  {
   "cell_type": "code",
   "execution_count": 9,
   "metadata": {},
   "outputs": [
    {
     "data": {
      "text/html": [
       "<div>\n",
       "<style scoped>\n",
       "    .dataframe tbody tr th:only-of-type {\n",
       "        vertical-align: middle;\n",
       "    }\n",
       "\n",
       "    .dataframe tbody tr th {\n",
       "        vertical-align: top;\n",
       "    }\n",
       "\n",
       "    .dataframe thead th {\n",
       "        text-align: right;\n",
       "    }\n",
       "</style>\n",
       "<table border=\"1\" class=\"dataframe\">\n",
       "  <thead>\n",
       "    <tr style=\"text-align: right;\">\n",
       "      <th></th>\n",
       "      <th>dirs</th>\n",
       "      <th>files</th>\n",
       "    </tr>\n",
       "  </thead>\n",
       "  <tbody>\n",
       "    <tr>\n",
       "      <th>..</th>\n",
       "      <td>9</td>\n",
       "      <td>12</td>\n",
       "    </tr>\n",
       "    <tr>\n",
       "      <th>..\\figures</th>\n",
       "      <td>8</td>\n",
       "      <td>1</td>\n",
       "    </tr>\n",
       "    <tr>\n",
       "      <th>..\\models-analyses</th>\n",
       "      <td>6</td>\n",
       "      <td>3</td>\n",
       "    </tr>\n",
       "    <tr>\n",
       "      <th>..\\models-analyses\\cross_validation_analyses</th>\n",
       "      <td>1</td>\n",
       "      <td>4</td>\n",
       "    </tr>\n",
       "    <tr>\n",
       "      <th>..\\models-analyses\\descriptive_statistics_analyses</th>\n",
       "      <td>1</td>\n",
       "      <td>1</td>\n",
       "    </tr>\n",
       "    <tr>\n",
       "      <th>..\\models-analyses\\grid_search_analyses</th>\n",
       "      <td>1</td>\n",
       "      <td>2</td>\n",
       "    </tr>\n",
       "    <tr>\n",
       "      <th>..\\models-analyses\\official_notebooks_tmp</th>\n",
       "      <td>1</td>\n",
       "      <td>4</td>\n",
       "    </tr>\n",
       "    <tr>\n",
       "      <th>..\\project_stats</th>\n",
       "      <td>3</td>\n",
       "      <td>5</td>\n",
       "    </tr>\n",
       "    <tr>\n",
       "      <th>..\\resources\\scikit-learn-examples</th>\n",
       "      <td>1</td>\n",
       "      <td>2</td>\n",
       "    </tr>\n",
       "    <tr>\n",
       "      <th>..\\utils</th>\n",
       "      <td>2</td>\n",
       "      <td>8</td>\n",
       "    </tr>\n",
       "  </tbody>\n",
       "</table>\n",
       "</div>"
      ],
      "text/plain": [
       "                                                    dirs  files\n",
       "..                                                     9     12\n",
       "..\\figures                                             8      1\n",
       "..\\models-analyses                                     6      3\n",
       "..\\models-analyses\\cross_validation_analyses           1      4\n",
       "..\\models-analyses\\descriptive_statistics_analyses     1      1\n",
       "..\\models-analyses\\grid_search_analyses                1      2\n",
       "..\\models-analyses\\official_notebooks_tmp              1      4\n",
       "..\\project_stats                                       3      5\n",
       "..\\resources\\scikit-learn-examples                     1      2\n",
       "..\\utils                                               2      8"
      ]
     },
     "execution_count": 9,
     "metadata": {},
     "output_type": "execute_result"
    }
   ],
   "source": [
    "criteria = (df_indexed[\"dirs\"] != 0) & (df_indexed[\"files\"] != 0)\n",
    "df_indexed[criteria]"
   ]
  },
  {
   "cell_type": "code",
   "execution_count": 10,
   "metadata": {},
   "outputs": [],
   "source": [
    "df_indexed_v2 = get_df_from_list_of_os_walk_numeric_indexed_v2(resources_list=resources_list)\n",
    "assert df_indexed_v2 is not None, \"df_indexed_v2 is None\""
   ]
  },
  {
   "cell_type": "code",
   "execution_count": 11,
   "metadata": {},
   "outputs": [
    {
     "name": "stdout",
     "output_type": "stream",
     "text": [
      "<class 'pandas.core.frame.DataFrame'>\n",
      "Index: 147 entries, .. to ..\\__pycache__\n",
      "Data columns (total 3 columns):\n",
      " #   Column     Non-Null Count  Dtype\n",
      "---  ------     --------------  -----\n",
      " 0   dirs       147 non-null    int64\n",
      " 1   dirs_size  147 non-null    int64\n",
      " 2   files      147 non-null    int64\n",
      "dtypes: int64(3)\n",
      "memory usage: 4.6+ KB\n"
     ]
    }
   ],
   "source": [
    "df_indexed_v2.info()"
   ]
  },
  {
   "cell_type": "code",
   "execution_count": 12,
   "metadata": {},
   "outputs": [
    {
     "data": {
      "text/html": [
       "<div>\n",
       "<style scoped>\n",
       "    .dataframe tbody tr th:only-of-type {\n",
       "        vertical-align: middle;\n",
       "    }\n",
       "\n",
       "    .dataframe tbody tr th {\n",
       "        vertical-align: top;\n",
       "    }\n",
       "\n",
       "    .dataframe thead th {\n",
       "        text-align: right;\n",
       "    }\n",
       "</style>\n",
       "<table border=\"1\" class=\"dataframe\">\n",
       "  <thead>\n",
       "    <tr style=\"text-align: right;\">\n",
       "      <th></th>\n",
       "      <th>dirs</th>\n",
       "      <th>dirs_size</th>\n",
       "      <th>files</th>\n",
       "    </tr>\n",
       "  </thead>\n",
       "  <tbody>\n",
       "    <tr>\n",
       "      <th>..</th>\n",
       "      <td>9</td>\n",
       "      <td>16025312</td>\n",
       "      <td>12</td>\n",
       "    </tr>\n",
       "    <tr>\n",
       "      <th>..\\.ipynb_checkpoints</th>\n",
       "      <td>0</td>\n",
       "      <td>11758765</td>\n",
       "      <td>11</td>\n",
       "    </tr>\n",
       "    <tr>\n",
       "      <th>..\\figures</th>\n",
       "      <td>8</td>\n",
       "      <td>97830</td>\n",
       "      <td>1</td>\n",
       "    </tr>\n",
       "    <tr>\n",
       "      <th>..\\figures\\.ipynb_checkpoints</th>\n",
       "      <td>0</td>\n",
       "      <td>0</td>\n",
       "      <td>0</td>\n",
       "    </tr>\n",
       "    <tr>\n",
       "      <th>..\\figures\\DecisionTreeClassifier</th>\n",
       "      <td>0</td>\n",
       "      <td>0</td>\n",
       "      <td>0</td>\n",
       "    </tr>\n",
       "  </tbody>\n",
       "</table>\n",
       "</div>"
      ],
      "text/plain": [
       "                                   dirs  dirs_size  files\n",
       "..                                    9   16025312     12\n",
       "..\\.ipynb_checkpoints                 0   11758765     11\n",
       "..\\figures                            8      97830      1\n",
       "..\\figures\\.ipynb_checkpoints         0          0      0\n",
       "..\\figures\\DecisionTreeClassifier     0          0      0"
      ]
     },
     "execution_count": 12,
     "metadata": {},
     "output_type": "execute_result"
    }
   ],
   "source": [
    "df_indexed_v2.head(5)"
   ]
  },
  {
   "cell_type": "code",
   "execution_count": 13,
   "metadata": {},
   "outputs": [
    {
     "data": {
      "text/plain": [
       "<seaborn.axisgrid.PairGrid at 0x1fe64008ec8>"
      ]
     },
     "execution_count": 13,
     "metadata": {},
     "output_type": "execute_result"
    },
    {
     "data": {
      "image/png": "[encoded data removed]",
      "text/plain": [
       "<Figure size 324x324 with 12 Axes>"
      ]
     },
     "metadata": {},
     "output_type": "display_data"
    }
   ],
   "source": [
    "# sns.pairplot(df_indexed_v2, hue='???', size=1.5)\n",
    "sns.pairplot(df_indexed_v2, height=1.5)"
   ]
  },
  {
   "cell_type": "markdown",
   "metadata": {},
   "source": [
    "## Perform Machine Learning"
   ]
  },
  {
   "cell_type": "code",
   "execution_count": 14,
   "metadata": {},
   "outputs": [],
   "source": [
    "criteria = (df_indexed_v2[\"dirs\"] != 0) & (df_indexed_v2[\"files\"] != 0)\n",
    "# df_tmp = df_indexed[criteria]\n",
    "df_tmp = df_indexed_v2"
   ]
  },
  {
   "cell_type": "code",
   "execution_count": 15,
   "metadata": {},
   "outputs": [],
   "source": [
    "y = df_tmp[\"files\"].values\n",
    "X = df_tmp[[\"dirs\", \"dirs_size\"]].values"
   ]
  },
  {
   "cell_type": "code",
   "execution_count": 16,
   "metadata": {},
   "outputs": [],
   "source": [
    "# ax = sns.scatterplot(x=\"dirs\", y=\"files\", data=df_tmp)"
   ]
  },
  {
   "cell_type": "code",
   "execution_count": 17,
   "metadata": {},
   "outputs": [
    {
     "data": {
      "image/png": "[encoded data removed]",
      "text/plain": [
       "<Figure size 288x216 with 1 Axes>"
      ]
     },
     "metadata": {},
     "output_type": "display_data"
    },
    {
     "data": {
      "image/png": "[encoded data removed]",
      "text/plain": [
       "<Figure size 288x216 with 1 Axes>"
      ]
     },
     "metadata": {},
     "output_type": "display_data"
    }
   ],
   "source": [
    "linear_regression_custom(X[:, 0], y, randomize_data=True)"
   ]
  },
  {
   "cell_type": "code",
   "execution_count": 18,
   "metadata": {},
   "outputs": [
    {
     "data": {
      "image/png": "[encoded data removed]",
      "text/plain": [
       "<Figure size 432x288 with 8 Axes>"
      ]
     },
     "metadata": {},
     "output_type": "display_data"
    }
   ],
   "source": [
    "err_list = classifier_comparison(X, y, start_clf=0, stop_clf=10, verbose=0, record_errors=True)"
   ]
  },
  {
   "cell_type": "code",
   "execution_count": 19,
   "metadata": {},
   "outputs": [
    {
     "name": "stdout",
     "output_type": "stream",
     "text": [
      "[('Linear SVM',\n",
      "  ValueError('cannot reshape array of size 962962 into shape (481,286)')),\n",
      " ('RBF SVM',\n",
      "  ValueError('cannot reshape array of size 962962 into shape (481,286)')),\n",
      " ('AdaBoost',\n",
      "  ValueError('cannot reshape array of size 962962 into shape (481,286)')),\n",
      " ('QDA',\n",
      "  ValueError('y has only 1 sample in class 3, covariance is ill defined.'))]\n"
     ]
    }
   ],
   "source": [
    "pprint(err_list)"
   ]
  },
  {
   "cell_type": "markdown",
   "metadata": {},
   "source": [
    "## Show Some Graphs (Histograms & Pie Charts)"
   ]
  },
  {
   "cell_type": "code",
   "execution_count": null,
   "metadata": {},
   "outputs": [],
   "source": [
    "df = get_df_from_list_of_os_walk_numeric(resources_list=resources_list)\n",
    "assert df is not None, \"df is None\""
   ]
  },
  {
   "cell_type": "code",
   "execution_count": null,
   "metadata": {},
   "outputs": [],
   "source": [
    "df.info()"
   ]
  },
  {
   "cell_type": "code",
   "execution_count": null,
   "metadata": {},
   "outputs": [],
   "source": [
    "# print(df.head(df.shape[0]))\n",
    "df.head(5)"
   ]
  },
  {
   "cell_type": "code",
   "execution_count": null,
   "metadata": {},
   "outputs": [],
   "source": [
    "df[[\"dirs\", \"files\"]].agg(['sum', 'max', 'min', 'mean', 'std'])"
   ]
  },
  {
   "cell_type": "code",
   "execution_count": null,
   "metadata": {},
   "outputs": [],
   "source": [
    "df[[\"dirs\", \"files\"]].describe(include='all')"
   ]
  },
  {
   "cell_type": "code",
   "execution_count": null,
   "metadata": {},
   "outputs": [],
   "source": [
    "res_stats = df[[\"dirs\", \"files\"]].describe(include='all')\n",
    "loc_max: int = res_stats.index.get_loc('max')\n",
    "loc_min: int = res_stats.index.get_loc('min')\n",
    "max_val = int(max(res_stats.loc[res_stats.index[loc_max]]))\n",
    "min_val = int(min(res_stats.loc[res_stats.index[loc_min]]))\n",
    "bins = range(min_val, max_val)\n",
    "df[[\"dirs\", \"files\"]].hist(bins=bins)"
   ]
  },
  {
   "cell_type": "code",
   "execution_count": null,
   "metadata": {},
   "outputs": [],
   "source": [
    "type(res_stats.index)"
   ]
  },
  {
   "cell_type": "code",
   "execution_count": null,
   "metadata": {},
   "outputs": [],
   "source": [
    "def file2ext(file_name: str) ->str:\n",
    "    tmp_res: str = os.path.basename(file_name)\n",
    "    filename, file_extension = os.path.splitext(tmp_res)\n",
    "    if len(file_extension) == 0: return \"-\"\n",
    "    return file_extension\n",
    "df = get_df_from_list_of_os_walk(resources_list=resources_list, columns=\"root,dirs,files,files size\", verbose=0)"
   ]
  },
  {
   "cell_type": "code",
   "execution_count": null,
   "metadata": {},
   "outputs": [],
   "source": [
    "df.info()"
   ]
  },
  {
   "cell_type": "code",
   "execution_count": null,
   "metadata": {},
   "outputs": [],
   "source": [
    "# type(df[[\"files\"]].applymap(file2ext))\n",
    "pd.unique(df[[\"files\"]].applymap(file2ext)[\"files\"].values)"
   ]
  },
  {
   "cell_type": "code",
   "execution_count": null,
   "metadata": {},
   "outputs": [],
   "source": [
    "# type(df[[\"files\"]].applymap(file2ext)[\"files\"].value_counts())\n",
    "df[[\"files\"]].applymap(file2ext)[\"files\"].value_counts().to_frame().T"
   ]
  },
  {
   "cell_type": "code",
   "execution_count": null,
   "metadata": {},
   "outputs": [],
   "source": [
    "ext_df: pd.DataFrame = df[[\"files\"]].applymap(file2ext)"
   ]
  },
  {
   "cell_type": "code",
   "execution_count": null,
   "metadata": {},
   "outputs": [],
   "source": [
    "meta_data_img = {\n",
    "    'title': 'Hist',\n",
    "    'ylabel': 'Freq',\n",
    "    'xlabel': 'Ext'\n",
    "}\n",
    "show_pie_by_variable_from_df(ext_df, variable_name=\"files\", fig_name=\"pie_chart.png\", meta_data_img=meta_data_img)"
   ]
  },
  {
   "cell_type": "code",
   "execution_count": null,
   "metadata": {},
   "outputs": [],
   "source": [
    "meta_data_img = {\n",
    "    'title': 'Hist',\n",
    "    'ylabel': 'Freq',\n",
    "    'xlabel': 'Ext'\n",
    "}\n",
    "show_histogram_by_variable_from_df(ext_df, variable_name=\"files\", fig_name=\"plain_hist.png\", meta_data_img=meta_data_img)"
   ]
  },
  {
   "cell_type": "code",
   "execution_count": null,
   "metadata": {},
   "outputs": [],
   "source": [
    "meta_data_img = {\n",
    "    'title': f'Hist | Normalize',\n",
    "    'ylabel': 'Freq',\n",
    "    'xlabel': 'Ext'\n",
    "}\n",
    "show_histogram_by_variable_from_df(ext_df, variable_name=\"files\", rescale_data_tech=\"Normalize\", fig_name=\"pie_chart.png\", meta_data_img=meta_data_img)"
   ]
  },
  {
   "cell_type": "code",
   "execution_count": null,
   "metadata": {},
   "outputs": [],
   "source": [
    "meta_data_img = {\n",
    "    'title': 'Hist | MinMaxScaler',\n",
    "    'ylabel': 'Freq',\n",
    "    'xlabel': 'Ext'\n",
    "}\n",
    "show_histogram_by_variable_from_df(ext_df, variable_name=\"files\", rescale_data_tech=\"MinMaxScaler\", fig_name=\"pie_chart.png\", meta_data_img=meta_data_img)"
   ]
  },
  {
   "cell_type": "code",
   "execution_count": null,
   "metadata": {
    "scrolled": true
   },
   "outputs": [],
   "source": [
    "meta_data_img = {\n",
    "    'title': 'Hist | StandardScaler',\n",
    "    'ylabel': 'Freq',\n",
    "    'xlabel': 'Ext'\n",
    "}\n",
    "show_histogram_by_variable_from_df(ext_df, variable_name=\"files\", rescale_data_tech=\"StandardScaler\", fig_name=\"pie_chart.png\", meta_data_img=meta_data_img)"
   ]
  },
  {
   "cell_type": "code",
   "execution_count": null,
   "metadata": {},
   "outputs": [],
   "source": [
    "show_histograms_by_scaler_tech(\n",
    "    ext_df, variable_name=\"files\",\n",
    "    # rescale_data_techs=[\"StandardScaler\", \"MinMaxScaler\",], fig_name=\"all_hists_chart.png\")\n",
    "    rescale_data_techs=[\"StandardScaler\", \"MinMaxScaler\", \"Normalize\"],\n",
    "    figsize=(10, 10),\n",
    "    fig_name=\"all_hists_chart.png\",\n",
    "    show_default=True)"
   ]
  },
  {
   "cell_type": "markdown",
   "metadata": {},
   "source": [
    "## References:\n",
    "\n",
    "## Scikit-Learn:\n",
    "\n",
    "### Objects:\n",
    "- (StandardScaler) https://scikit-learn.org/stable/modules/generated/sklearn.preprocessing.StandardScaler.html\n",
    "\n",
    "### Examples:\n",
    "Some useful examples:\n",
    "- (Ordinary Least Squares and Ridge Regression Variance) https://scikit-learn.org/stable/auto_examples/linear_model/plot_ols_ridge_variance.html#sphx-glr-auto-examples-linear-model-plot-ols-ridge-variance-py\n",
    "- (Classifier comparison) https://scikit-learn.org/stable/auto_examples/classification/plot_classifier_comparison.html#sphx-glr-auto-examples-classification-plot-classifier-comparison-py\n",
    "\n"
   ]
  },
  {
   "cell_type": "code",
   "execution_count": null,
   "metadata": {},
   "outputs": [],
   "source": []
  }
 ],
 "metadata": {
  "kernelspec": {
   "display_name": "Python 3",
   "language": "python",
   "name": "python3"
  },
  "language_info": {
   "codemirror_mode": {
    "name": "ipython",
    "version": 3
   },
   "file_extension": ".py",
   "mimetype": "text/x-python",
   "name": "python",
   "nbconvert_exporter": "python",
   "pygments_lexer": "ipython3",
   "version": "3.7.7"
  }
 },
 "nbformat": 4,
 "nbformat_minor": 4
}
